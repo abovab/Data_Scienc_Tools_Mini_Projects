{
 "cells": [
  {
   "cell_type": "code",
   "execution_count": 642,
   "id": "religious-stephen",
   "metadata": {},
   "outputs": [],
   "source": [
    "import nltk\n",
    "import emoji\n",
    "import string\n",
    "import numpy as np\n",
    "import pandas as pd\n",
    "from scipy import stats\n",
    "from nltk.corpus import stopwords\n",
    "from matplotlib import pyplot as plt\n",
    "from nltk.tokenize import word_tokenize\n",
    "from sklearn.metrics import accuracy_score\n",
    "from sklearn.preprocessing import StandardScaler\n",
    "from sklearn.feature_extraction.text import TfidfVectorizer\n",
    "from sklearn.naive_bayes import CategoricalNB,GaussianNB,MultinomialNB\n",
    "from sklearn.model_selection import cross_validate,GridSearchCV,train_test_split\n",
    "plt.style.use('dark_background')"
   ]
  },
  {
   "cell_type": "markdown",
   "id": "fluid-diversity",
   "metadata": {},
   "source": [
    "My goal was to see how well I could predict sentiment analysis on Roman Urdu (Urdu written using the Roman alphabet). The data contains 20229 text records, each labeled with one of the following sentiments: 'Positive',\n",
    "'Neutral','Negative'. The data only had one missing value for text, which was dropped. There was also some typos in the label column that had to be corrected.\n",
    "\n",
    "Each sample text was tokenized and cleared of stop words. (List of urdu stop words obtained from https://github.com/haseebelahi/roman-urdu-stopwords/). Because the data is text-based, a multinomial naive bayes classifier was chosen -- which is trained using the frequency of word occurances. This modeling method is known to work well for sentiment analysis and is capable of multiclass problems.\n",
    "\n",
    "After iterating through smoothing parameters (from 0 to 100), the model found the optimal alpha to be 1 (Laplace smoothing). The model had 80% accuracy on the test set and dropped to 61% on the test set, indicating overfitting was an issue. Initially the vecorizor discared emoticons, so I created another feature matrix that converted emojis to text (unfortunately in English). This model performed best with a smoothing parameter of 1 as well but did not improve on the prior model's accuracy. Because this model is based off of word frequency it may be beneficial to translate these emoticons into Urdu rather than English so that they are factored into non-emoji word frequencies."
   ]
  },
  {
   "cell_type": "code",
   "execution_count": 663,
   "id": "correct-inclusion",
   "metadata": {},
   "outputs": [
    {
     "name": "stdout",
     "output_type": "stream",
     "text": [
      "(20229, 2)\n"
     ]
    },
    {
     "data": {
      "text/html": [
       "<div>\n",
       "<style scoped>\n",
       "    .dataframe tbody tr th:only-of-type {\n",
       "        vertical-align: middle;\n",
       "    }\n",
       "\n",
       "    .dataframe tbody tr th {\n",
       "        vertical-align: top;\n",
       "    }\n",
       "\n",
       "    .dataframe thead th {\n",
       "        text-align: right;\n",
       "    }\n",
       "</style>\n",
       "<table border=\"1\" class=\"dataframe\">\n",
       "  <thead>\n",
       "    <tr style=\"text-align: right;\">\n",
       "      <th></th>\n",
       "      <th>urdu</th>\n",
       "      <th>sentiment</th>\n",
       "    </tr>\n",
       "  </thead>\n",
       "  <tbody>\n",
       "    <tr>\n",
       "      <th>0</th>\n",
       "      <td>Sai kha ya her kisi kay bus ki bat nhi hai lakin main ki hal kal bi Aj aur aj bi sirf Aus say bus</td>\n",
       "      <td>Positive</td>\n",
       "    </tr>\n",
       "    <tr>\n",
       "      <th>1</th>\n",
       "      <td>sahi bt h</td>\n",
       "      <td>Positive</td>\n",
       "    </tr>\n",
       "    <tr>\n",
       "      <th>2</th>\n",
       "      <td>Kya bt hai,</td>\n",
       "      <td>Positive</td>\n",
       "    </tr>\n",
       "    <tr>\n",
       "      <th>3</th>\n",
       "      <td>Wah je wah</td>\n",
       "      <td>Positive</td>\n",
       "    </tr>\n",
       "    <tr>\n",
       "      <th>4</th>\n",
       "      <td>Are wha kaya bat hai</td>\n",
       "      <td>Positive</td>\n",
       "    </tr>\n",
       "  </tbody>\n",
       "</table>\n",
       "</div>"
      ],
      "text/plain": [
       "                                                                                                urdu  \\\n",
       "0  Sai kha ya her kisi kay bus ki bat nhi hai lakin main ki hal kal bi Aj aur aj bi sirf Aus say bus   \n",
       "1                                                                                          sahi bt h   \n",
       "2                                                                                        Kya bt hai,   \n",
       "3                                                                                         Wah je wah   \n",
       "4                                                                               Are wha kaya bat hai   \n",
       "\n",
       "  sentiment  \n",
       "0  Positive  \n",
       "1  Positive  \n",
       "2  Positive  \n",
       "3  Positive  \n",
       "4  Positive  "
      ]
     },
     "execution_count": 663,
     "metadata": {},
     "output_type": "execute_result"
    }
   ],
   "source": [
    "X = pd.read_csv('Roman Urdu DataSet.csv',header=None,names=['urdu','sentiment','null'])[['urdu','sentiment']]\n",
    "print(X.shape)\n",
    "X.head(5)"
   ]
  },
  {
   "cell_type": "markdown",
   "id": "alternate-circle",
   "metadata": {},
   "source": [
    "### Target sentiments"
   ]
  },
  {
   "cell_type": "code",
   "execution_count": 664,
   "id": "apart-episode",
   "metadata": {},
   "outputs": [
    {
     "name": "stdout",
     "output_type": "stream",
     "text": [
      "['Positive' 'Neutral' 'Negative' 'Neative']\n",
      "['Positive' 'Neutral' 'Negative']\n"
     ]
    }
   ],
   "source": [
    "print(X.sentiment.unique())\n",
    "X.sentiment[X.sentiment=='Neative'] = 'Negative'\n",
    "print(X.sentiment.unique())"
   ]
  },
  {
   "cell_type": "markdown",
   "id": "adjustable-ethics",
   "metadata": {},
   "source": [
    "### Drop missing values"
   ]
  },
  {
   "cell_type": "code",
   "execution_count": 665,
   "id": "ranging-making",
   "metadata": {},
   "outputs": [
    {
     "name": "stdout",
     "output_type": "stream",
     "text": [
      "      urdu sentiment\n",
      "16904  NaN   Neutral\n"
     ]
    }
   ],
   "source": [
    "print(X[pd.isna(X.urdu)])\n",
    "X = X[pd.notna(X.urdu)]"
   ]
  },
  {
   "cell_type": "markdown",
   "id": "obvious-discretion",
   "metadata": {},
   "source": [
    "### Stop Words"
   ]
  },
  {
   "cell_type": "code",
   "execution_count": 666,
   "id": "civic-portsmouth",
   "metadata": {},
   "outputs": [],
   "source": [
    "stop_words = set(['ai','ayi','hy','hai','main','ki','tha','koi','ko','sy','woh' ,'bhi','aur','wo','yeh','rha',\n",
    "                  'hota','ho','ga','ka','le','lye' ,'kr','kar','lye','liye','hotay','waisay','gya','gaya','kch',\n",
    "                  'ab','thy','thay','houn','hain','han','to','is','hi','jo','kya','thi','se','pe','phr','wala',\n",
    "                  'waisay','us','na','ny','hun','rha','raha','ja','rahay','abi','uski','ne','haan','acha','nai',\n",
    "                  'sent','photo','you','kafi','gai','rhy','kuch','jata','aye','ya','dono','hoa','aese','de',\n",
    "                  'wohi','jati','jb','krta','lg','rahi','hui','karna','krna','gi','hova','yehi','jana','jye',\n",
    "                  'chal','mil','tu','hum','par','hay','kis','sb','gy','dain','krny','tou'] + \n",
    "                  list(string.punctuation) + ['’','”','“','--'])"
   ]
  },
  {
   "cell_type": "markdown",
   "id": "attached-comment",
   "metadata": {},
   "source": [
    "### Vectorize Text"
   ]
  },
  {
   "cell_type": "code",
   "execution_count": 667,
   "id": "pharmaceutical-scholar",
   "metadata": {},
   "outputs": [
    {
     "data": {
      "text/plain": [
       "32116"
      ]
     },
     "execution_count": 667,
     "metadata": {},
     "output_type": "execute_result"
    }
   ],
   "source": [
    "vectorizer = TfidfVectorizer(lowercase=True,stop_words=stop_words)\n",
    "X_vex = vectorizer.fit_transform(X.urdu)\n",
    "len(vectorizer.get_feature_names())"
   ]
  },
  {
   "cell_type": "markdown",
   "id": "coordinate-aberdeen",
   "metadata": {},
   "source": [
    "### Grid Search"
   ]
  },
  {
   "cell_type": "code",
   "execution_count": 668,
   "id": "heavy-symposium",
   "metadata": {},
   "outputs": [
    {
     "name": "stdout",
     "output_type": "stream",
     "text": [
      "{'alpha': 1, 'fit_prior': True}\n",
      "0.6105657203888921\n"
     ]
    }
   ],
   "source": [
    "X_train,X_test,y_train,y_test = train_test_split(X_vex,X.sentiment,test_size=0.3)\n",
    "\n",
    "parameters = {'alpha':[a for a in range(0,100)], \n",
    "              'fit_prior':[True,False]}\n",
    "bayes      = MultinomialNB()\n",
    "grid       = GridSearchCV(bayes,parameters,cv=10)\n",
    "results    = grid.fit(X_train,y_train)\n",
    "\n",
    "print(grid.best_params_)\n",
    "print(grid.best_score_)"
   ]
  },
  {
   "cell_type": "markdown",
   "id": "blocked-sugar",
   "metadata": {},
   "source": [
    "### Best Model"
   ]
  },
  {
   "cell_type": "code",
   "execution_count": 669,
   "id": "invalid-radiation",
   "metadata": {},
   "outputs": [
    {
     "name": "stdout",
     "output_type": "stream",
     "text": [
      "Training Set Accuracy:\n",
      "\t 0.8081079172257928\n",
      "Test Set Accuracy:\n",
      "\t 0.6197067062118965\n"
     ]
    }
   ],
   "source": [
    "bayes = MultinomialNB(alpha=1)\n",
    "model = bayes.fit(X_train,y_train)\n",
    "\n",
    "y_train_pred = model.predict(X_train)\n",
    "y_test_pred  = model.predict(X_test)\n",
    "\n",
    "print(f'Training Set Accuracy:\\n\\t {accuracy_score(y_train, y_train_pred)}')\n",
    "print(f'Test Set Accuracy:\\n\\t {accuracy_score(y_test, y_test_pred)}')"
   ]
  },
  {
   "cell_type": "markdown",
   "id": "advised-hawaiian",
   "metadata": {},
   "source": [
    "### Train/Test Accuracy by Alpha Levels"
   ]
  },
  {
   "cell_type": "code",
   "execution_count": 670,
   "id": "initial-state",
   "metadata": {},
   "outputs": [
    {
     "data": {
      "image/png": "[encoded data removed]",
      "text/plain": [
       "<Figure size 576x432 with 1 Axes>"
      ]
     },
     "metadata": {},
     "output_type": "display_data"
    }
   ],
   "source": [
    "alphas = list(range(0,100))\n",
    "test_scores = []\n",
    "train_scores = []\n",
    "\n",
    "for a in alphas:\n",
    "    bayes = MultinomialNB(alpha=a)\n",
    "    model = bayes.fit(X_train,y_train)\n",
    "\n",
    "    y_train_pred = model.predict(X_train)\n",
    "    y_test_pred  = model.predict(X_test)\n",
    "\n",
    "    train_scores.append(accuracy_score(y_train, y_train_pred))\n",
    "    test_scores.append(accuracy_score(y_test, y_test_pred))\n",
    "\n",
    "fig, ax = plt.subplots(figsize=(8,6))\n",
    "\n",
    "plt.plot(alphas,train_scores,color='red',linewidth=4.0,label='Train')\n",
    "plt.plot(alphas,test_scores,color='orange',linewidth=4.0,label='Test')\n",
    "plt.xlabel('Alpha',fontsize='large')\n",
    "plt.ylabel('Accuracy',fontsize='large')\n",
    "plt.title('Alpha Values & Overfitting')\n",
    "ax.legend(frameon=False,fontsize='large')\n",
    "plt.show()"
   ]
  },
  {
   "cell_type": "markdown",
   "id": "third-tobacco",
   "metadata": {},
   "source": [
    "### Including emojis in analysis"
   ]
  },
  {
   "cell_type": "code",
   "execution_count": 671,
   "id": "organized-amendment",
   "metadata": {},
   "outputs": [
    {
     "data": {
      "image/png": "[encoded data removed]",
      "text/plain": [
       "<Figure size 576x432 with 1 Axes>"
      ]
     },
     "metadata": {},
     "output_type": "display_data"
    }
   ],
   "source": [
    "X.urdu = X.urdu.map(emoji.demojize)\n",
    "\n",
    "vectorizer = TfidfVectorizer(lowercase=True,stop_words=stop_words)\n",
    "X_vex = vectorizer.fit_transform(X.urdu)\n",
    "\n",
    "X_train,X_test,y_train,y_test = train_test_split(X_vex,X.sentiment,test_size=0.3)\n",
    "\n",
    "alphas = list(range(0,100))\n",
    "test_scores = []\n",
    "train_scores = []\n",
    "\n",
    "for a in alphas:\n",
    "    bayes = MultinomialNB(alpha=a)\n",
    "    model = bayes.fit(X_train,y_train)\n",
    "\n",
    "    y_train_pred = model.predict(X_train)\n",
    "    y_test_pred  = model.predict(X_test)\n",
    "\n",
    "    train_scores.append(accuracy_score(y_train, y_train_pred))\n",
    "    test_scores.append(accuracy_score(y_test, y_test_pred))\n",
    "    \n",
    "fig, ax = plt.subplots(figsize=(8,6))\n",
    "\n",
    "plt.plot(alphas,train_scores,color='red',linewidth=4.0,label='Train')\n",
    "plt.plot(alphas,test_scores,color='orange',linewidth=4.0,label='Test')\n",
    "plt.xlabel('Alpha',fontsize='large')\n",
    "plt.ylabel('Accuracy',fontsize='large')\n",
    "plt.title('Alpha Values & Overfitting')\n",
    "ax.legend(frameon=False,fontsize='large')\n",
    "plt.show()"
   ]
  },
  {
   "cell_type": "markdown",
   "id": "initial-waste",
   "metadata": {},
   "source": [
    "### Best Model"
   ]
  },
  {
   "cell_type": "code",
   "execution_count": 672,
   "id": "instrumental-investigation",
   "metadata": {},
   "outputs": [
    {
     "name": "stdout",
     "output_type": "stream",
     "text": [
      "Training Set Accuracy:\n",
      "\t 0.8095204463592062\n",
      "Test Set Accuracy:\n",
      "\t 0.6164112703905091\n"
     ]
    }
   ],
   "source": [
    "bayes = MultinomialNB(alpha=1)\n",
    "model = bayes.fit(X_train,y_train)\n",
    "\n",
    "y_train_pred = model.predict(X_train)\n",
    "y_test_pred  = model.predict(X_test)\n",
    "\n",
    "print(f'Training Set Accuracy:\\n\\t {accuracy_score(y_train, y_train_pred)}')\n",
    "print(f'Test Set Accuracy:\\n\\t {accuracy_score(y_test, y_test_pred)}')"
   ]
  },
  {
   "cell_type": "code",
   "execution_count": null,
   "id": "common-disabled",
   "metadata": {},
   "outputs": [],
   "source": []
  }
 ],
 "metadata": {
  "kernelspec": {
   "display_name": "Python 3",
   "language": "python",
   "name": "python3"
  },
  "language_info": {
   "codemirror_mode": {
    "name": "ipython",
    "version": 3
   },
   "file_extension": ".py",
   "mimetype": "text/x-python",
   "name": "python",
   "nbconvert_exporter": "python",
   "pygments_lexer": "ipython3",
   "version": "3.7.1"
  }
 },
 "nbformat": 4,
 "nbformat_minor": 5
}
